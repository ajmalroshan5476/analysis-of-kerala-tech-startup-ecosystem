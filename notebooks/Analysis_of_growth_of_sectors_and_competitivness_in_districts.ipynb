{
  "nbformat": 4,
  "nbformat_minor": 0,
  "metadata": {
    "colab": {
      "provenance": []
    },
    "kernelspec": {
      "name": "python3",
      "display_name": "Python 3"
    },
    "language_info": {
      "name": "python"
    }
  },
  "cells": [
    {
      "cell_type": "code",
      "execution_count": 12,
      "metadata": {
        "colab": {
          "base_uri": "https://localhost:8080/"
        },
        "id": "2A90HJ4U4ifA",
        "outputId": "9d36ef42-a198-47f7-f0a7-ac4581dd2f79"
      },
      "outputs": [
        {
          "output_type": "stream",
          "name": "stdout",
          "text": [
            "<class 'pandas.core.frame.DataFrame'>\n",
            "RangeIndex: 1200 entries, 0 to 1199\n",
            "Data columns (total 5 columns):\n",
            " #   Column              Non-Null Count  Dtype \n",
            "---  ------              --------------  ----- \n",
            " 0   Name                1200 non-null   object\n",
            " 1   District            1200 non-null   object\n",
            " 2   Sector              1199 non-null   object\n",
            " 3   Incorporation year  1200 non-null   int64 \n",
            " 4   Era                 1200 non-null   object\n",
            "dtypes: int64(1), object(4)\n",
            "memory usage: 47.0+ KB\n",
            "None\n",
            "                                          Name   District  \\\n",
            "0    AMMRAS SOFTWARE SOLUTIONS PRIVATE LIMITED   Thrissur   \n",
            "1            ASAIES AUTOMATION PRIVATE LIMITED  Ernakulam   \n",
            "2  AutoMicroUAS AeroTech (OPC) Private Limited  Ernakulam   \n",
            "3                       Avench Systems Pvt Ltd  Kozhikode   \n",
            "4    BABYMARINE SEAFOOD RETAIL PRIVATE LIMITED  Ernakulam   \n",
            "\n",
            "                    Sector  Incorporation year        Era  \n",
            "0                  it/ites                2015  Pre Covid  \n",
            "1  artificial intelligence                2015  Pre Covid  \n",
            "2       internet of things                2015  Pre Covid  \n",
            "3       internet of things                2015  Pre Covid  \n",
            "4                 foodtech                2015  Pre Covid  \n"
          ]
        }
      ],
      "source": [
        "import pandas as pd\n",
        "\n",
        "# Load dataset\n",
        "file_path = \"/content/startup_data.xlsx\"\n",
        "df = pd.read_excel(file_path)\n",
        "\n",
        "# Display basic information\n",
        "print(df.info())\n",
        "print(df.head())\n"
      ]
    },
    {
      "cell_type": "code",
      "source": [
        "import pandas as pd\n",
        "\n",
        "# Load dataset\n",
        "file_path = \"/content/startup_data.xlsx\"\n",
        "df = pd.read_excel(file_path)\n",
        "\n",
        "# Drop rows with missing sector values\n",
        "df = df.dropna(subset=[\"Sector\"])\n",
        "\n",
        "# Group by sector and year, count the number of startups\n",
        "sector_trends = df.groupby([\"Sector\", \"Incorporation year\"]).size().reset_index(name=\"Startup Count\")\n",
        "\n",
        "# Pivot table for easier visualization\n",
        "sector_pivot = sector_trends.pivot(index=\"Incorporation year\", columns=\"Sector\", values=\"Startup Count\").fillna(0)\n",
        "\n",
        "# Calculate year-over-year growth rate for each sector\n",
        "sector_growth = sector_pivot.pct_change().mean().sort_values(ascending=False)\n",
        "\n",
        "# Display top fastest-growing sectors\n",
        "print(\"Top 10 Fastest Growing Sectors:\")\n",
        "print(sector_growth.head(10))\n"
      ],
      "metadata": {
        "colab": {
          "base_uri": "https://localhost:8080/"
        },
        "id": "5zMuFBrs41Z3",
        "outputId": "5ce39770-b67f-434e-86b3-e1d18e353ae4"
      },
      "execution_count": 15,
      "outputs": [
        {
          "output_type": "stream",
          "name": "stdout",
          "text": [
            "Top 10 Fastest Growing Sectors:\n",
            "Sector\n",
            "edtech                     0.420880\n",
            "it/ites                    0.365491\n",
            "fintech                    0.289589\n",
            "internet of things         0.251885\n",
            "artificial intelligence    0.245636\n",
            "healthtech                 0.184536\n",
            "foodtech                   0.171611\n",
            "adtech                     0.111905\n",
            "dtype: float64\n"
          ]
        }
      ]
    },
    {
      "cell_type": "code",
      "source": [
        "import pandas as pd\n",
        "import scipy.stats as stats\n",
        "\n",
        "# Load dataset\n",
        "file_path = \"/content/startup_data.xlsx\"\n",
        "df = pd.read_excel(file_path)\n",
        "\n",
        "# Drop rows with missing sector values\n",
        "df = df.dropna(subset=[\"Sector\"])\n",
        "\n",
        "# Group by sector and year, count startups\n",
        "sector_trends = df.groupby([\"Incorporation year\", \"Sector\"]).size().reset_index(name=\"Startup Count\")\n",
        "\n",
        "# Reshape data for ANOVA/Kruskal-Wallis\n",
        "sector_pivot = sector_trends.pivot(index=\"Incorporation year\", columns=\"Sector\", values=\"Startup Count\").fillna(0)\n",
        "\n",
        "# Perform ANOVA (parametric test)\n",
        "anova_result = stats.f_oneway(*[sector_pivot[col] for col in sector_pivot.columns])\n",
        "\n",
        "# Perform Kruskal-Wallis test (non-parametric alternative)\n",
        "kruskal_result = stats.kruskal(*[sector_pivot[col] for col in sector_pivot.columns])\n",
        "\n",
        "# Print results\n",
        "print(\"ANOVA Test Results:\", anova_result)\n",
        "print(\"Kruskal-Wallis Test Results:\", kruskal_result)\n"
      ],
      "metadata": {
        "colab": {
          "base_uri": "https://localhost:8080/"
        },
        "id": "u_MP2SSL5jU5",
        "outputId": "3dabd384-beeb-4ed9-a58e-fb1d7c2c983c"
      },
      "execution_count": 16,
      "outputs": [
        {
          "output_type": "stream",
          "name": "stdout",
          "text": [
            "ANOVA Test Results: F_onewayResult(statistic=np.float64(5.96238132139826), pvalue=np.float64(2.3068071325349916e-05))\n",
            "Kruskal-Wallis Test Results: KruskalResult(statistic=np.float64(25.23372474096968), pvalue=np.float64(0.0006896913217855704))\n"
          ]
        }
      ]
    },
    {
      "cell_type": "code",
      "source": [
        "import pandas as pd\n",
        "import statsmodels.api as sm\n",
        "from statsmodels.stats.multicomp import pairwise_tukeyhsd\n",
        "\n",
        "# Load dataset\n",
        "file_path = \"/content/startup_data.xlsx\"\n",
        "df = pd.read_excel(file_path)\n",
        "\n",
        "# Drop rows with missing sector values\n",
        "df = df.dropna(subset=[\"Sector\"])\n",
        "\n",
        "# Group by sector and year, count startups\n",
        "sector_trends = df.groupby([\"Incorporation year\", \"Sector\"]).size().reset_index(name=\"Startup Count\")\n",
        "\n",
        "# Perform Tukey HSD test\n",
        "tukey_result = pairwise_tukeyhsd(endog=sector_trends[\"Startup Count\"], groups=sector_trends[\"Sector\"], alpha=0.05)\n",
        "\n",
        "# Print summary\n",
        "print(tukey_result)\n"
      ],
      "metadata": {
        "colab": {
          "base_uri": "https://localhost:8080/"
        },
        "id": "vJM7a13i55Br",
        "outputId": "81653d74-99ca-432a-e855-b5e75c396f2e"
      },
      "execution_count": 17,
      "outputs": [
        {
          "output_type": "stream",
          "name": "stdout",
          "text": [
            "                  Multiple Comparison of Means - Tukey HSD, FWER=0.05                  \n",
            "=======================================================================================\n",
            "         group1                  group2         meandiff p-adj   lower    upper  reject\n",
            "---------------------------------------------------------------------------------------\n",
            "                 adtech artificial intelligence   10.125  0.822 -11.5367 31.7867  False\n",
            "                 adtech                  edtech  20.4722 0.0623  -0.5792 41.5236  False\n",
            "                 adtech                 fintech   3.5833 0.9994 -17.4681 24.6347  False\n",
            "                 adtech                foodtech   5.4722 0.9916 -15.5792 26.5236  False\n",
            "                 adtech              healthtech  15.9167 0.2735  -5.1347 36.9681  False\n",
            "                 adtech      internet of things   7.8056 0.9393 -13.2459  28.857  False\n",
            "                 adtech                 it/ites  34.0278 0.0001  12.9764 55.0792   True\n",
            "artificial intelligence                  edtech  10.3472 0.7818 -10.7042 31.3986  False\n",
            "artificial intelligence                 fintech  -6.5417 0.9764 -27.5931 14.5097  False\n",
            "artificial intelligence                foodtech  -4.6528 0.9969 -25.7042 16.3986  False\n",
            "artificial intelligence              healthtech   5.7917 0.9883 -15.2597 26.8431  False\n",
            "artificial intelligence      internet of things  -2.3194    1.0 -23.3709  18.732  False\n",
            "artificial intelligence                 it/ites  23.9028 0.0154   2.8514 44.9542   True\n",
            "                 edtech                 fintech -16.8889 0.1779 -37.3118   3.534  False\n",
            "                 edtech                foodtech    -15.0 0.3082 -35.4229  5.4229  False\n",
            "                 edtech              healthtech  -4.5556 0.9967 -24.9784 15.8673  False\n",
            "                 edtech      internet of things -12.6667 0.5261 -33.0895  7.7562  False\n",
            "                 edtech                 it/ites  13.5556 0.4377  -6.8673 33.9784  False\n",
            "                fintech                foodtech   1.8889    1.0  -18.534 22.3118  False\n",
            "                fintech              healthtech  12.3333   0.56  -8.0895 32.7562  False\n",
            "                fintech      internet of things   4.2222  0.998 -16.2006 24.6451  False\n",
            "                fintech                 it/ites  30.4444 0.0004  10.0216 50.8673   True\n",
            "               foodtech              healthtech  10.4444  0.746  -9.9784 30.8673  False\n",
            "               foodtech      internet of things   2.3333    1.0 -18.0895 22.7562  False\n",
            "               foodtech                 it/ites  28.5556 0.0011   8.1327 48.9784   True\n",
            "             healthtech      internet of things  -8.1111 0.9146  -28.534 12.3118  False\n",
            "             healthtech                 it/ites  18.1111 0.1185  -2.3118  38.534  False\n",
            "     internet of things                 it/ites  26.2222 0.0037   5.7994 46.6451   True\n",
            "---------------------------------------------------------------------------------------\n"
          ]
        }
      ]
    },
    {
      "cell_type": "code",
      "source": [
        "sector_counts = df['Sector'].value_counts()\n"
      ],
      "metadata": {
        "id": "7lM9SZ_PHGI7"
      },
      "execution_count": 5,
      "outputs": []
    },
    {
      "cell_type": "code",
      "source": [
        "sector_counts = df['Sector'].value_counts()\n"
      ],
      "metadata": {
        "id": "HOK94E3BHJgE"
      },
      "execution_count": 6,
      "outputs": []
    },
    {
      "cell_type": "code",
      "source": [
        "total_startups = sector_counts.sum()\n",
        "market_shares = sector_counts / total_startups\n"
      ],
      "metadata": {
        "id": "IFyhV1qFHQh7"
      },
      "execution_count": 7,
      "outputs": []
    },
    {
      "cell_type": "code",
      "source": [
        "import numpy as np\n",
        "import pandas as pd\n",
        "\n",
        "# Load your dataset\n",
        "df = pd.read_excel(\"/content/startup_data.xlsx\")\n",
        "\n",
        "# Count the number of startups in each sector\n",
        "sector_counts = df['Sector'].value_counts()\n",
        "\n",
        "# Calculate market shares\n",
        "total_startups = sector_counts.sum()\n",
        "market_shares = sector_counts / total_startups\n",
        "\n",
        "# Compute HHI\n",
        "hhi = np.sum((market_shares ** 2) * 10000)\n",
        "print(f\"Herfindahl-Hirschman Index (HHI): {hhi}\")\n"
      ],
      "metadata": {
        "colab": {
          "base_uri": "https://localhost:8080/"
        },
        "id": "dUFL8N3lHZn8",
        "outputId": "87bae379-bc3d-4f57-c82a-d6af6222c5f0"
      },
      "execution_count": 18,
      "outputs": [
        {
          "output_type": "stream",
          "name": "stdout",
          "text": [
            "Herfindahl-Hirschman Index (HHI): 1741.7141473886008\n"
          ]
        }
      ]
    },
    {
      "cell_type": "code",
      "source": [
        "import pandas as pd\n",
        "import numpy as np\n",
        "\n",
        "# Load the dataset\n",
        "df = pd.read_excel(\"/content/startup_data.xlsx\")\n",
        "\n",
        "\n",
        "df = df.dropna(subset=['Sector'])\n",
        "\n",
        "# Compute sector count per district\n",
        "district_sector_counts = df.groupby(['District', 'Sector']).size().reset_index(name='Count')\n",
        "\n",
        "# Compute total startups per district\n",
        "district_totals = df.groupby('District').size().reset_index(name='Total')\n",
        "\n",
        "# Merge the two DataFrames\n",
        "district_sector_counts = district_sector_counts.merge(district_totals, on='District')\n",
        "\n",
        "# Calculate market share per sector in each district\n",
        "district_sector_counts['Market Share'] = district_sector_counts['Count'] / district_sector_counts['Total']\n",
        "\n",
        "# Compute HHI for each district\n",
        "hhi_per_district = district_sector_counts.groupby('District').apply(\n",
        "    lambda x: np.sum((x['Market Share'] ** 2) * 10000)\n",
        ").reset_index(name='HHI')\n",
        "\n",
        "# Display the results\n",
        "print(hhi_per_district.sort_values(by=\"HHI\", ascending=False))\n"
      ],
      "metadata": {
        "colab": {
          "base_uri": "https://localhost:8080/"
        },
        "id": "rMfZZV5OIFkj",
        "outputId": "f4b344d0-7648-47d1-9edb-c861f3e63f42"
      },
      "execution_count": 11,
      "outputs": [
        {
          "output_type": "stream",
          "name": "stdout",
          "text": [
            "              District          HHI\n",
            "13             Wayanad  2777.777778\n",
            "2               Idukki  2561.983471\n",
            "7            Kozhikode  2371.200000\n",
            "4            Kasaragod  2244.897959\n",
            "6             Kottayam  2212.244898\n",
            "3               Kannur  2025.000000\n",
            "11  Thiruvananthapuram  1986.627640\n",
            "8           Malappuram  1904.592382\n",
            "9             Palakkad  1787.755102\n",
            "1            Ernakulam  1696.899551\n",
            "0            Alappuzha  1683.673469\n",
            "5               Kollam  1678.467305\n",
            "10      Pathanamthitta  1604.938272\n",
            "12            Thrissur  1458.044039\n"
          ]
        },
        {
          "output_type": "stream",
          "name": "stderr",
          "text": [
            "<ipython-input-11-c3b98aaf9708>:23: DeprecationWarning: DataFrameGroupBy.apply operated on the grouping columns. This behavior is deprecated, and in a future version of pandas the grouping columns will be excluded from the operation. Either pass `include_groups=False` to exclude the groupings or explicitly select the grouping columns after groupby to silence this warning.\n",
            "  hhi_per_district = district_sector_counts.groupby('District').apply(\n"
          ]
        }
      ]
    }
  ]
}